{
 "cells": [
  {
   "cell_type": "code",
   "execution_count": 11,
   "metadata": {},
   "outputs": [
    {
     "name": "stderr",
     "output_type": "stream",
     "text": [
      "처리중 7_val: 100%|===================================================| 7/7 [00:08<00:00,  1.25s/it]\n"
     ]
    }
   ],
   "source": [
    "from tqdm import tqdm\n",
    "from time import sleep\n",
    "from tqdm import trange\n",
    "import os \n",
    "\n",
    "total_path = r\"I:\\KADaP\\MultiSensor_Prediction\\2.Validation\\raw\"\n",
    "\n",
    "first_folder_list = os.listdir(total_path)\n",
    "\n",
    "\n",
    "pbar = tqdm(first_folder_list,\n",
    "            total = len(first_folder_list),\n",
    "            desc = '1차 폴더 진행중',\n",
    "            ncols = 100,\n",
    "            ascii = ' =',\n",
    "            leave=True,\n",
    "            )\n",
    "for char in pbar :\n",
    "    sleep(1.25)\n",
    "    pbar.set_description('처리중 %s' % char)"
   ]
  }
 ],
 "metadata": {
  "kernelspec": {
   "display_name": "Python 3",
   "language": "python",
   "name": "python3"
  },
  "language_info": {
   "codemirror_mode": {
    "name": "ipython",
    "version": 3
   },
   "file_extension": ".py",
   "mimetype": "text/x-python",
   "name": "python",
   "nbconvert_exporter": "python",
   "pygments_lexer": "ipython3",
   "version": "3.9.2"
  },
  "orig_nbformat": 4,
  "vscode": {
   "interpreter": {
    "hash": "6fff98fc3b3d81bd655c2cc48858186e4d9e2db7b515bf1c3221888f12a62f87"
   }
  }
 },
 "nbformat": 4,
 "nbformat_minor": 2
}
